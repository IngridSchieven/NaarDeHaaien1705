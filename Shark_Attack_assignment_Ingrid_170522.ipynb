{
  "nbformat": 4,
  "nbformat_minor": 0,
  "metadata": {
    "colab": {
      "name": "Shark_Attack_assignment_Ingrid_170522.ipynb",
      "provenance": [],
      "collapsed_sections": [],
      "authorship_tag": "ABX9TyP+pj/n2yHxaOrTvWD/07XE",
      "include_colab_link": true
    },
    "kernelspec": {
      "name": "python3",
      "display_name": "Python 3"
    },
    "language_info": {
      "name": "python"
    }
  },
  "cells": [
    {
      "cell_type": "markdown",
      "metadata": {
        "id": "view-in-github",
        "colab_type": "text"
      },
      "source": [
        "<a href=\"https://colab.research.google.com/github/IngridSchieven/NaarDeHaaien1705/blob/main/Shark_Attack_assignment_Ingrid_170522.ipynb\" target=\"_parent\"><img src=\"https://colab.research.google.com/assets/colab-badge.svg\" alt=\"Open In Colab\"/></a>"
      ]
    },
    {
      "cell_type": "code",
      "execution_count": 56,
      "metadata": {
        "id": "FseDZ6emphdz",
        "colab": {
          "base_uri": "https://localhost:8080/"
        },
        "outputId": "25014db5-19f2-4f76-8143-7102d0ee1343"
      },
      "outputs": [
        {
          "output_type": "stream",
          "name": "stdout",
          "text": [
            "The google.colab.data_table extension is already loaded. To reload it, use:\n",
            "  %reload_ext google.colab.data_table\n"
          ]
        }
      ],
      "source": [
        "import pandas as pd\n",
        "import numpy as np\n",
        "import matplotlib.pyplot as plt\n",
        "\n",
        "%load_ext google.colab.data_table"
      ]
    },
    {
      "cell_type": "code",
      "source": [
        "#read in the CVS file attacks.csv\n",
        "#many thanks to Stefanie for sharing her Github repository\n",
        "\n",
        "url = 'https://raw.githubusercontent.com/stefaniemichielsen/Winc/main/attacks.csv'\n",
        "df = pd.read_csv(url, encoding='cp1252')\n",
        "\n",
        "df.head(10) #quick scan of df"
      ],
      "metadata": {
        "id": "yAnyYaQesC_Z",
        "colab": {
          "base_uri": "https://localhost:8080/",
          "height": 942
        },
        "outputId": "b9a0c81f-aa24-4f75-c7c9-76c6e2d96461"
      },
      "execution_count": 57,
      "outputs": [
        {
          "output_type": "stream",
          "name": "stdout",
          "text": [
            "Warning: Total number of columns (24) exceeds max_columns (20). Falling back to pandas display.\n"
          ]
        },
        {
          "output_type": "execute_result",
          "data": {
            "text/plain": [
              "    Case Number         Date    Year        Type    Country             Area  \\\n",
              "0    2018.06.25  25-Jun-2018  2018.0     Boating        USA       California   \n",
              "1    2018.06.18  18-Jun-2018  2018.0  Unprovoked        USA          Georgia   \n",
              "2    2018.06.09  09-Jun-2018  2018.0     Invalid        USA           Hawaii   \n",
              "3    2018.06.08  08-Jun-2018  2018.0  Unprovoked  AUSTRALIA  New South Wales   \n",
              "4    2018.06.04  04-Jun-2018  2018.0    Provoked     MEXICO           Colima   \n",
              "5  2018.06.03.b  03-Jun-2018  2018.0  Unprovoked  AUSTRALIA  New South Wales   \n",
              "6  2018.06.03.a  03-Jun-2018  2018.0  Unprovoked     BRAZIL       Pernambuco   \n",
              "7    2018.05.27  27-May-2018  2018.0  Unprovoked        USA          Florida   \n",
              "8  2018.05.26.b  26-May-2018  2018.0  Unprovoked        USA          Florida   \n",
              "9  2018.05.26.a  26-May-2018  2018.0  Unprovoked        USA          Florida   \n",
              "\n",
              "                                            Location      Activity  \\\n",
              "0                        Oceanside, San Diego County      Paddling   \n",
              "1                     St. Simon Island, Glynn County      Standing   \n",
              "2                                       Habush, Oahu       Surfing   \n",
              "3                                 Arrawarra Headland       Surfing   \n",
              "4                                           La Ticla   Free diving   \n",
              "5                                 Flat Rock, Ballina  Kite surfing   \n",
              "6                              Piedade Beach, Recife      Swimming   \n",
              "7  Lighhouse Point Park, Ponce Inlet, Volusia County       Fishing   \n",
              "8                       Cocoa Beach, Brevard  County       Walking   \n",
              "9                      Daytona Beach, Volusia County      Standing   \n",
              "\n",
              "                     Name Sex   ...         Species   \\\n",
              "0             Julie Wolfe    F  ...      White shark   \n",
              "1         Adyson McNeely     F  ...              NaN   \n",
              "2             John Denges    M  ...              NaN   \n",
              "3                    male    M  ...        2 m shark   \n",
              "4          Gustavo Ramos     M  ...  Tiger shark, 3m   \n",
              "5                 Chris …    M  ...              NaN   \n",
              "6  Jose Ernesto da Silva     M  ...      Tiger shark   \n",
              "7                    male    M  ...  Lemon shark, 3'   \n",
              "8               Cody High    M  ...   Bull shark, 6'   \n",
              "9                    male    M  ...              NaN   \n",
              "\n",
              "             Investigator or Source                            pdf  \\\n",
              "0                  R. Collier, GSAF           2018.06.25-Wolfe.pdf   \n",
              "1    K.McMurray, TrackingSharks.com         2018.06.18-McNeely.pdf   \n",
              "2    K.McMurray, TrackingSharks.com          2018.06.09-Denges.pdf   \n",
              "3                    B. Myatt, GSAF       2018.06.08-Arrawarra.pdf   \n",
              "4                         A .Kipper           2018.06.04-Ramos.pdf   \n",
              "5         Daily Telegraph, 6/4/2018      2018.06.03.b-FlatRock.pdf   \n",
              "6    Diario de Pernambuco, 6/4/2018       2018.06.03.a-daSilva.pdf   \n",
              "7   K. McMurray, TrackingSharks.com           2018.05.27-Ponce.pdf   \n",
              "8    K.McMurray, TrackingSharks.com          2018.05.26.b-High.pdf   \n",
              "9  K. McMurray, Tracking Sharks.com  2018.05.26.a-DaytonaBeach.pdf   \n",
              "\n",
              "                                        href formula  \\\n",
              "0  http://sharkattackfile.net/spreadsheets/pdf_di...   \n",
              "1  http://sharkattackfile.net/spreadsheets/pdf_di...   \n",
              "2  http://sharkattackfile.net/spreadsheets/pdf_di...   \n",
              "3  http://sharkattackfile.net/spreadsheets/pdf_di...   \n",
              "4  http://sharkattackfile.net/spreadsheets/pdf_di...   \n",
              "5  http://sharkattackfile.net/spreadsheets/pdf_di...   \n",
              "6  http://sharkattackfile.net/spreadsheets/pdf_di...   \n",
              "7  http://sharkattackfile.net/spreadsheets/pdf_di...   \n",
              "8  http://sharkattackfile.net/spreadsheets/pdf_di...   \n",
              "9  http://sharkattackfile.net/spreadsheets/pdf_di...   \n",
              "\n",
              "                                                href Case Number.1  \\\n",
              "0  http://sharkattackfile.net/spreadsheets/pdf_di...    2018.06.25   \n",
              "1  http://sharkattackfile.net/spreadsheets/pdf_di...    2018.06.18   \n",
              "2  http://sharkattackfile.net/spreadsheets/pdf_di...    2018.06.09   \n",
              "3  http://sharkattackfile.net/spreadsheets/pdf_di...    2018.06.08   \n",
              "4  http://sharkattackfile.net/spreadsheets/pdf_di...    2018.06.04   \n",
              "5  http://sharkattackfile.net/spreadsheets/pdf_di...  2018.06.03.b   \n",
              "6  http://sharkattackfile.net/spreadsheets/pdf_di...  2018.06.03.a   \n",
              "7  http://sharkattackfile.net/spreadsheets/pdf_di...    2018.05.27   \n",
              "8  http://sharkattackfile.net/spreadsheets/pdf_di...  2018.05.26.b   \n",
              "9  http://sharkattackfile.net/spreadsheets/pdf_di...  2018.05.26.a   \n",
              "\n",
              "  Case Number.2 original order Unnamed: 22 Unnamed: 23  \n",
              "0    2018.06.25         6303.0         NaN         NaN  \n",
              "1    2018.06.18         6302.0         NaN         NaN  \n",
              "2    2018.06.09         6301.0         NaN         NaN  \n",
              "3    2018.06.08         6300.0         NaN         NaN  \n",
              "4    2018.06.04         6299.0         NaN         NaN  \n",
              "5  2018.06.03.b         6298.0         NaN         NaN  \n",
              "6  2018.06.03.a         6297.0         NaN         NaN  \n",
              "7    2018.05.27         6296.0         NaN         NaN  \n",
              "8  2018.05.26.b         6295.0         NaN         NaN  \n",
              "9  2018.05.26.a         6294.0         NaN         NaN  \n",
              "\n",
              "[10 rows x 24 columns]"
            ],
            "text/html": [
              "\n",
              "  <div id=\"df-05ca967d-7de4-4f1c-bd0e-f5f96df4d6bb\">\n",
              "    <div class=\"colab-df-container\">\n",
              "      <div>\n",
              "<style scoped>\n",
              "    .dataframe tbody tr th:only-of-type {\n",
              "        vertical-align: middle;\n",
              "    }\n",
              "\n",
              "    .dataframe tbody tr th {\n",
              "        vertical-align: top;\n",
              "    }\n",
              "\n",
              "    .dataframe thead th {\n",
              "        text-align: right;\n",
              "    }\n",
              "</style>\n",
              "<table border=\"1\" class=\"dataframe\">\n",
              "  <thead>\n",
              "    <tr style=\"text-align: right;\">\n",
              "      <th></th>\n",
              "      <th>Case Number</th>\n",
              "      <th>Date</th>\n",
              "      <th>Year</th>\n",
              "      <th>Type</th>\n",
              "      <th>Country</th>\n",
              "      <th>Area</th>\n",
              "      <th>Location</th>\n",
              "      <th>Activity</th>\n",
              "      <th>Name</th>\n",
              "      <th>Sex</th>\n",
              "      <th>...</th>\n",
              "      <th>Species</th>\n",
              "      <th>Investigator or Source</th>\n",
              "      <th>pdf</th>\n",
              "      <th>href formula</th>\n",
              "      <th>href</th>\n",
              "      <th>Case Number.1</th>\n",
              "      <th>Case Number.2</th>\n",
              "      <th>original order</th>\n",
              "      <th>Unnamed: 22</th>\n",
              "      <th>Unnamed: 23</th>\n",
              "    </tr>\n",
              "  </thead>\n",
              "  <tbody>\n",
              "    <tr>\n",
              "      <th>0</th>\n",
              "      <td>2018.06.25</td>\n",
              "      <td>25-Jun-2018</td>\n",
              "      <td>2018.0</td>\n",
              "      <td>Boating</td>\n",
              "      <td>USA</td>\n",
              "      <td>California</td>\n",
              "      <td>Oceanside, San Diego County</td>\n",
              "      <td>Paddling</td>\n",
              "      <td>Julie Wolfe</td>\n",
              "      <td>F</td>\n",
              "      <td>...</td>\n",
              "      <td>White shark</td>\n",
              "      <td>R. Collier, GSAF</td>\n",
              "      <td>2018.06.25-Wolfe.pdf</td>\n",
              "      <td>http://sharkattackfile.net/spreadsheets/pdf_di...</td>\n",
              "      <td>http://sharkattackfile.net/spreadsheets/pdf_di...</td>\n",
              "      <td>2018.06.25</td>\n",
              "      <td>2018.06.25</td>\n",
              "      <td>6303.0</td>\n",
              "      <td>NaN</td>\n",
              "      <td>NaN</td>\n",
              "    </tr>\n",
              "    <tr>\n",
              "      <th>1</th>\n",
              "      <td>2018.06.18</td>\n",
              "      <td>18-Jun-2018</td>\n",
              "      <td>2018.0</td>\n",
              "      <td>Unprovoked</td>\n",
              "      <td>USA</td>\n",
              "      <td>Georgia</td>\n",
              "      <td>St. Simon Island, Glynn County</td>\n",
              "      <td>Standing</td>\n",
              "      <td>Adyson McNeely</td>\n",
              "      <td>F</td>\n",
              "      <td>...</td>\n",
              "      <td>NaN</td>\n",
              "      <td>K.McMurray, TrackingSharks.com</td>\n",
              "      <td>2018.06.18-McNeely.pdf</td>\n",
              "      <td>http://sharkattackfile.net/spreadsheets/pdf_di...</td>\n",
              "      <td>http://sharkattackfile.net/spreadsheets/pdf_di...</td>\n",
              "      <td>2018.06.18</td>\n",
              "      <td>2018.06.18</td>\n",
              "      <td>6302.0</td>\n",
              "      <td>NaN</td>\n",
              "      <td>NaN</td>\n",
              "    </tr>\n",
              "    <tr>\n",
              "      <th>2</th>\n",
              "      <td>2018.06.09</td>\n",
              "      <td>09-Jun-2018</td>\n",
              "      <td>2018.0</td>\n",
              "      <td>Invalid</td>\n",
              "      <td>USA</td>\n",
              "      <td>Hawaii</td>\n",
              "      <td>Habush, Oahu</td>\n",
              "      <td>Surfing</td>\n",
              "      <td>John Denges</td>\n",
              "      <td>M</td>\n",
              "      <td>...</td>\n",
              "      <td>NaN</td>\n",
              "      <td>K.McMurray, TrackingSharks.com</td>\n",
              "      <td>2018.06.09-Denges.pdf</td>\n",
              "      <td>http://sharkattackfile.net/spreadsheets/pdf_di...</td>\n",
              "      <td>http://sharkattackfile.net/spreadsheets/pdf_di...</td>\n",
              "      <td>2018.06.09</td>\n",
              "      <td>2018.06.09</td>\n",
              "      <td>6301.0</td>\n",
              "      <td>NaN</td>\n",
              "      <td>NaN</td>\n",
              "    </tr>\n",
              "    <tr>\n",
              "      <th>3</th>\n",
              "      <td>2018.06.08</td>\n",
              "      <td>08-Jun-2018</td>\n",
              "      <td>2018.0</td>\n",
              "      <td>Unprovoked</td>\n",
              "      <td>AUSTRALIA</td>\n",
              "      <td>New South Wales</td>\n",
              "      <td>Arrawarra Headland</td>\n",
              "      <td>Surfing</td>\n",
              "      <td>male</td>\n",
              "      <td>M</td>\n",
              "      <td>...</td>\n",
              "      <td>2 m shark</td>\n",
              "      <td>B. Myatt, GSAF</td>\n",
              "      <td>2018.06.08-Arrawarra.pdf</td>\n",
              "      <td>http://sharkattackfile.net/spreadsheets/pdf_di...</td>\n",
              "      <td>http://sharkattackfile.net/spreadsheets/pdf_di...</td>\n",
              "      <td>2018.06.08</td>\n",
              "      <td>2018.06.08</td>\n",
              "      <td>6300.0</td>\n",
              "      <td>NaN</td>\n",
              "      <td>NaN</td>\n",
              "    </tr>\n",
              "    <tr>\n",
              "      <th>4</th>\n",
              "      <td>2018.06.04</td>\n",
              "      <td>04-Jun-2018</td>\n",
              "      <td>2018.0</td>\n",
              "      <td>Provoked</td>\n",
              "      <td>MEXICO</td>\n",
              "      <td>Colima</td>\n",
              "      <td>La Ticla</td>\n",
              "      <td>Free diving</td>\n",
              "      <td>Gustavo Ramos</td>\n",
              "      <td>M</td>\n",
              "      <td>...</td>\n",
              "      <td>Tiger shark, 3m</td>\n",
              "      <td>A .Kipper</td>\n",
              "      <td>2018.06.04-Ramos.pdf</td>\n",
              "      <td>http://sharkattackfile.net/spreadsheets/pdf_di...</td>\n",
              "      <td>http://sharkattackfile.net/spreadsheets/pdf_di...</td>\n",
              "      <td>2018.06.04</td>\n",
              "      <td>2018.06.04</td>\n",
              "      <td>6299.0</td>\n",
              "      <td>NaN</td>\n",
              "      <td>NaN</td>\n",
              "    </tr>\n",
              "    <tr>\n",
              "      <th>5</th>\n",
              "      <td>2018.06.03.b</td>\n",
              "      <td>03-Jun-2018</td>\n",
              "      <td>2018.0</td>\n",
              "      <td>Unprovoked</td>\n",
              "      <td>AUSTRALIA</td>\n",
              "      <td>New South Wales</td>\n",
              "      <td>Flat Rock, Ballina</td>\n",
              "      <td>Kite surfing</td>\n",
              "      <td>Chris …</td>\n",
              "      <td>M</td>\n",
              "      <td>...</td>\n",
              "      <td>NaN</td>\n",
              "      <td>Daily Telegraph, 6/4/2018</td>\n",
              "      <td>2018.06.03.b-FlatRock.pdf</td>\n",
              "      <td>http://sharkattackfile.net/spreadsheets/pdf_di...</td>\n",
              "      <td>http://sharkattackfile.net/spreadsheets/pdf_di...</td>\n",
              "      <td>2018.06.03.b</td>\n",
              "      <td>2018.06.03.b</td>\n",
              "      <td>6298.0</td>\n",
              "      <td>NaN</td>\n",
              "      <td>NaN</td>\n",
              "    </tr>\n",
              "    <tr>\n",
              "      <th>6</th>\n",
              "      <td>2018.06.03.a</td>\n",
              "      <td>03-Jun-2018</td>\n",
              "      <td>2018.0</td>\n",
              "      <td>Unprovoked</td>\n",
              "      <td>BRAZIL</td>\n",
              "      <td>Pernambuco</td>\n",
              "      <td>Piedade Beach, Recife</td>\n",
              "      <td>Swimming</td>\n",
              "      <td>Jose Ernesto da Silva</td>\n",
              "      <td>M</td>\n",
              "      <td>...</td>\n",
              "      <td>Tiger shark</td>\n",
              "      <td>Diario de Pernambuco, 6/4/2018</td>\n",
              "      <td>2018.06.03.a-daSilva.pdf</td>\n",
              "      <td>http://sharkattackfile.net/spreadsheets/pdf_di...</td>\n",
              "      <td>http://sharkattackfile.net/spreadsheets/pdf_di...</td>\n",
              "      <td>2018.06.03.a</td>\n",
              "      <td>2018.06.03.a</td>\n",
              "      <td>6297.0</td>\n",
              "      <td>NaN</td>\n",
              "      <td>NaN</td>\n",
              "    </tr>\n",
              "    <tr>\n",
              "      <th>7</th>\n",
              "      <td>2018.05.27</td>\n",
              "      <td>27-May-2018</td>\n",
              "      <td>2018.0</td>\n",
              "      <td>Unprovoked</td>\n",
              "      <td>USA</td>\n",
              "      <td>Florida</td>\n",
              "      <td>Lighhouse Point Park, Ponce Inlet, Volusia County</td>\n",
              "      <td>Fishing</td>\n",
              "      <td>male</td>\n",
              "      <td>M</td>\n",
              "      <td>...</td>\n",
              "      <td>Lemon shark, 3'</td>\n",
              "      <td>K. McMurray, TrackingSharks.com</td>\n",
              "      <td>2018.05.27-Ponce.pdf</td>\n",
              "      <td>http://sharkattackfile.net/spreadsheets/pdf_di...</td>\n",
              "      <td>http://sharkattackfile.net/spreadsheets/pdf_di...</td>\n",
              "      <td>2018.05.27</td>\n",
              "      <td>2018.05.27</td>\n",
              "      <td>6296.0</td>\n",
              "      <td>NaN</td>\n",
              "      <td>NaN</td>\n",
              "    </tr>\n",
              "    <tr>\n",
              "      <th>8</th>\n",
              "      <td>2018.05.26.b</td>\n",
              "      <td>26-May-2018</td>\n",
              "      <td>2018.0</td>\n",
              "      <td>Unprovoked</td>\n",
              "      <td>USA</td>\n",
              "      <td>Florida</td>\n",
              "      <td>Cocoa Beach, Brevard  County</td>\n",
              "      <td>Walking</td>\n",
              "      <td>Cody High</td>\n",
              "      <td>M</td>\n",
              "      <td>...</td>\n",
              "      <td>Bull shark, 6'</td>\n",
              "      <td>K.McMurray, TrackingSharks.com</td>\n",
              "      <td>2018.05.26.b-High.pdf</td>\n",
              "      <td>http://sharkattackfile.net/spreadsheets/pdf_di...</td>\n",
              "      <td>http://sharkattackfile.net/spreadsheets/pdf_di...</td>\n",
              "      <td>2018.05.26.b</td>\n",
              "      <td>2018.05.26.b</td>\n",
              "      <td>6295.0</td>\n",
              "      <td>NaN</td>\n",
              "      <td>NaN</td>\n",
              "    </tr>\n",
              "    <tr>\n",
              "      <th>9</th>\n",
              "      <td>2018.05.26.a</td>\n",
              "      <td>26-May-2018</td>\n",
              "      <td>2018.0</td>\n",
              "      <td>Unprovoked</td>\n",
              "      <td>USA</td>\n",
              "      <td>Florida</td>\n",
              "      <td>Daytona Beach, Volusia County</td>\n",
              "      <td>Standing</td>\n",
              "      <td>male</td>\n",
              "      <td>M</td>\n",
              "      <td>...</td>\n",
              "      <td>NaN</td>\n",
              "      <td>K. McMurray, Tracking Sharks.com</td>\n",
              "      <td>2018.05.26.a-DaytonaBeach.pdf</td>\n",
              "      <td>http://sharkattackfile.net/spreadsheets/pdf_di...</td>\n",
              "      <td>http://sharkattackfile.net/spreadsheets/pdf_di...</td>\n",
              "      <td>2018.05.26.a</td>\n",
              "      <td>2018.05.26.a</td>\n",
              "      <td>6294.0</td>\n",
              "      <td>NaN</td>\n",
              "      <td>NaN</td>\n",
              "    </tr>\n",
              "  </tbody>\n",
              "</table>\n",
              "<p>10 rows × 24 columns</p>\n",
              "</div>\n",
              "      <button class=\"colab-df-convert\" onclick=\"convertToInteractive('df-05ca967d-7de4-4f1c-bd0e-f5f96df4d6bb')\"\n",
              "              title=\"Convert this dataframe to an interactive table.\"\n",
              "              style=\"display:none;\">\n",
              "        \n",
              "  <svg xmlns=\"http://www.w3.org/2000/svg\" height=\"24px\"viewBox=\"0 0 24 24\"\n",
              "       width=\"24px\">\n",
              "    <path d=\"M0 0h24v24H0V0z\" fill=\"none\"/>\n",
              "    <path d=\"M18.56 5.44l.94 2.06.94-2.06 2.06-.94-2.06-.94-.94-2.06-.94 2.06-2.06.94zm-11 1L8.5 8.5l.94-2.06 2.06-.94-2.06-.94L8.5 2.5l-.94 2.06-2.06.94zm10 10l.94 2.06.94-2.06 2.06-.94-2.06-.94-.94-2.06-.94 2.06-2.06.94z\"/><path d=\"M17.41 7.96l-1.37-1.37c-.4-.4-.92-.59-1.43-.59-.52 0-1.04.2-1.43.59L10.3 9.45l-7.72 7.72c-.78.78-.78 2.05 0 2.83L4 21.41c.39.39.9.59 1.41.59.51 0 1.02-.2 1.41-.59l7.78-7.78 2.81-2.81c.8-.78.8-2.07 0-2.86zM5.41 20L4 18.59l7.72-7.72 1.47 1.35L5.41 20z\"/>\n",
              "  </svg>\n",
              "      </button>\n",
              "      \n",
              "  <style>\n",
              "    .colab-df-container {\n",
              "      display:flex;\n",
              "      flex-wrap:wrap;\n",
              "      gap: 12px;\n",
              "    }\n",
              "\n",
              "    .colab-df-convert {\n",
              "      background-color: #E8F0FE;\n",
              "      border: none;\n",
              "      border-radius: 50%;\n",
              "      cursor: pointer;\n",
              "      display: none;\n",
              "      fill: #1967D2;\n",
              "      height: 32px;\n",
              "      padding: 0 0 0 0;\n",
              "      width: 32px;\n",
              "    }\n",
              "\n",
              "    .colab-df-convert:hover {\n",
              "      background-color: #E2EBFA;\n",
              "      box-shadow: 0px 1px 2px rgba(60, 64, 67, 0.3), 0px 1px 3px 1px rgba(60, 64, 67, 0.15);\n",
              "      fill: #174EA6;\n",
              "    }\n",
              "\n",
              "    [theme=dark] .colab-df-convert {\n",
              "      background-color: #3B4455;\n",
              "      fill: #D2E3FC;\n",
              "    }\n",
              "\n",
              "    [theme=dark] .colab-df-convert:hover {\n",
              "      background-color: #434B5C;\n",
              "      box-shadow: 0px 1px 3px 1px rgba(0, 0, 0, 0.15);\n",
              "      filter: drop-shadow(0px 1px 2px rgba(0, 0, 0, 0.3));\n",
              "      fill: #FFFFFF;\n",
              "    }\n",
              "  </style>\n",
              "\n",
              "      <script>\n",
              "        const buttonEl =\n",
              "          document.querySelector('#df-05ca967d-7de4-4f1c-bd0e-f5f96df4d6bb button.colab-df-convert');\n",
              "        buttonEl.style.display =\n",
              "          google.colab.kernel.accessAllowed ? 'block' : 'none';\n",
              "\n",
              "        async function convertToInteractive(key) {\n",
              "          const element = document.querySelector('#df-05ca967d-7de4-4f1c-bd0e-f5f96df4d6bb');\n",
              "          const dataTable =\n",
              "            await google.colab.kernel.invokeFunction('convertToInteractive',\n",
              "                                                     [key], {});\n",
              "          if (!dataTable) return;\n",
              "\n",
              "          const docLinkHtml = 'Like what you see? Visit the ' +\n",
              "            '<a target=\"_blank\" href=https://colab.research.google.com/notebooks/data_table.ipynb>data table notebook</a>'\n",
              "            + ' to learn more about interactive tables.';\n",
              "          element.innerHTML = '';\n",
              "          dataTable['output_type'] = 'display_data';\n",
              "          await google.colab.output.renderOutput(dataTable, element);\n",
              "          const docLink = document.createElement('div');\n",
              "          docLink.innerHTML = docLinkHtml;\n",
              "          element.appendChild(docLink);\n",
              "        }\n",
              "      </script>\n",
              "    </div>\n",
              "  </div>\n",
              "  "
            ]
          },
          "metadata": {},
          "execution_count": 57
        }
      ]
    },
    {
      "cell_type": "code",
      "source": [
        "# Explore the dataset!\n",
        "\n",
        "#df.shape         #25723 rows, 24 columns\n",
        "#df.size          #617352 cells\n",
        "#df.columns       #NB: some weird columnnames appear already\n",
        "#df.head()\n",
        "#df.tail()        #NB: only NaN's appear!!\n",
        "#df.info()        #gives valuable information\n",
        "#df.describe()\n",
        "\n",
        "# note: I'm always printing out df.info(), gives me a good overview what to do to clean up the df"
      ],
      "metadata": {
        "id": "q8JZ0cwNstBu"
      },
      "execution_count": 58,
      "outputs": []
    },
    {
      "cell_type": "code",
      "source": [
        "df.sample(1)"
      ],
      "metadata": {
        "id": "0h4rTb-xvTi2"
      },
      "execution_count": null,
      "outputs": []
    },
    {
      "cell_type": "code",
      "source": [
        "#Quick overview of missing data use these features:\n",
        "\n",
        "for column in df.columns:\n",
        "    aantal_missing = np.sum(df[column].isnull())\n",
        "    print('{} - {}'.format(column, aantal_missing))"
      ],
      "metadata": {
        "id": "IhR35ASE9Huc"
      },
      "execution_count": null,
      "outputs": []
    },
    {
      "cell_type": "code",
      "source": [
        "#Clean up the dataset\n",
        "#drop multiple columns that are irrelevant\n",
        "df1 = df.drop(columns=['Year', 'Investigator or Source', 'pdf','Time', 'Area', 'Location', 'href formula', 'href',\n",
        "       'Case Number.1', 'Case Number.2', 'original order', 'Unnamed: 22', 'Injury',\n",
        "       'Unnamed: 23'])\n",
        "\n",
        "#rename columns \n",
        "df2 = df1.rename(columns= {'Case Number': 'Case_Number', 'Type': 'Attack_Type', 'Name': 'Victim_Name', 'Fatal (Y/N)': 'Fatal', 'Species ': 'Shark_Type', 'Sex ': 'Sex'})\n",
        "\n",
        "#set_index to set a useful index > not necessary??"
      ],
      "metadata": {
        "id": "rNyLquB1xePR"
      },
      "execution_count": 61,
      "outputs": []
    },
    {
      "cell_type": "code",
      "source": [
        "df2.sample(5)\n",
        "df2.columns"
      ],
      "metadata": {
        "id": "-qLJo0zS0TAb",
        "colab": {
          "base_uri": "https://localhost:8080/"
        },
        "outputId": "dce385d0-dd18-47f5-ec3f-07552c7b764a"
      },
      "execution_count": 62,
      "outputs": [
        {
          "output_type": "execute_result",
          "data": {
            "text/plain": [
              "Index(['Case_Number', 'Date', 'Attack_Type', 'Country', 'Activity',\n",
              "       'Victim_Name', 'Sex', 'Age', 'Fatal', 'Shark_Type'],\n",
              "      dtype='object')"
            ]
          },
          "metadata": {},
          "execution_count": 62
        }
      ]
    },
    {
      "cell_type": "code",
      "source": [
        "#Looking for missing data\n",
        "\n",
        "#A. look at al the unique values (per column?)\n",
        "#B. sorting and looking at the edges\n",
        "#C. casting to a type\n",
        "#D. looking at the freq.\n",
        "\n",
        "#after that:\n",
        "\n",
        "# Decide what to do with the default Null values and replace in for example: NaN, None, NaT, Unknown, False etc.\n",
        "# Replace missing values with tactics as dropna, fill_values etc."
      ],
      "metadata": {
        "id": "XNoW0fyK-evV"
      },
      "execution_count": 63,
      "outputs": []
    },
    {
      "cell_type": "code",
      "source": [
        "#A. B. C. D. \n",
        "#I'm using the tactics out of the missing data lesson of Winc Academy\n",
        "\n",
        "def print_separator(sep, num, msg):\n",
        "  print(\"\\n\")\n",
        "  print(sep * num)\n",
        "  print(f\"{msg}\")\n",
        "  print(sep * num)\n",
        "\n",
        "#A - LOOKING AT UNIQUE VALUES\n",
        "def look_at_unique_values(column): \n",
        "  unique_values_cutoff = 50\n",
        "  unique_values = column.unique()\n",
        "  num_unique_values = len(unique_values)\n",
        "  if num_unique_values == len(column):\n",
        "    print(f\"Each value in the column is unique (total: {num_unique_values})\")\n",
        "  elif num_unique_values < unique_values_cutoff:\n",
        "    print(f\"Less than {unique_values_cutoff} unique values:\")\n",
        "    # We may get an error when sorting\n",
        "    try:\n",
        "      sorted = np.sort(unique_values)\n",
        "      print(\"Values are sorted\")\n",
        "      display(list(sorted))\n",
        "    except:\n",
        "      print(\"Could not sort values\")\n",
        "      display(list(unique_values))\n",
        "  else:\n",
        "    print(f\"More than {unique_values_cutoff} unique values (total: {num_unique_values})\")\n",
        "\n",
        "#B - LOOK AT EDGES AND SORT\n",
        "def look_at_edges(df2, column_name):\n",
        "  # inner function\n",
        "  def show_head_and_tail(values):\n",
        "      num_items_to_slice = 10\n",
        "      display(list(values)[:num_items_to_slice])\n",
        "      display(list(values)[-num_items_to_slice:])\n",
        "\n",
        "  column = df2[column_name]\n",
        "  unique_values = column.unique()\n",
        "  try:\n",
        "      sorted = np.sort(unique_values)\n",
        "      print(\"Unique values sorted, head and tail:\")\n",
        "      show_head_and_tail(sorted)\n",
        "  except TypeError as error:\n",
        "      print(f\"Could not sort values: {error}\")\n",
        "      print(\"..so let's try filtering NULL values and then sorting\")\n",
        "      non_null_uniques = df2.loc[~df2[column_name].isnull(), column_name].unique()\n",
        "      sorted = np.sort(non_null_uniques)\n",
        "      show_head_and_tail(sorted)\n",
        "\n",
        "#C - CAST TO TYPE\n",
        "def cast_to_type(column, maybe_type):\n",
        "  try:\n",
        "    column.astype(maybe_type)\n",
        "    print(f\"Casting to {maybe_type} was successful\")\n",
        "  except ValueError as error:\n",
        "    print(f\"Could not cast to {maybe_type}: {error}\")\n",
        "\n",
        "\n",
        "def find_non_default_missing_values(df2, column_name, maybe_type):\n",
        "  long_separator_amount = 75\n",
        "  short_separator_amount = 35\n",
        "\n",
        "  print_separator('*', long_separator_amount, f'Finding non default missing values for column \\'{column_name}\\'')\n",
        "  print(f'Column \\'{column_name}\\'has datatype: {df2.dtypes[column_name]}')\n",
        "  column = df2[column_name]\n",
        "\n",
        "# A - LOOK AT UNIQUE VALUES PER COLUMN\n",
        "  print_separator(\"-\", short_separator_amount, \"A: Looking at unique values\")\n",
        "  look_at_unique_values(column)\n",
        "\n",
        "# B - SORTING AND LOOKING AT EDGES\n",
        "  print_separator(\"-\", short_separator_amount, \"B: Sorting and looking at the edges\")\n",
        "  look_at_edges(df2, column_name)\n",
        "\n",
        "# C - CASTING TO A TYPE\n",
        "  print_separator(\"-\", short_separator_amount, f\"C: Casting to type: {maybe_type}\")\n",
        "  cast_to_type(column, maybe_type)\n",
        "\n",
        "# D - LOOKING AT THE FREQUENTIE\n",
        "  print_separator(\"-\", short_separator_amount, \"D: Looking at frequency\")\n",
        "  display(column.value_counts(dropna=False)) #this is the code, no function needed\n",
        "\n",
        "  print(\"\\n\") #just printing a new line\n",
        "\n",
        "# df2.head()"
      ],
      "metadata": {
        "id": "F6_Sn5Nm_YqQ"
      },
      "execution_count": 64,
      "outputs": []
    },
    {
      "cell_type": "code",
      "source": [
        "#further exploration of the df\n",
        "display(list(df2.columns))"
      ],
      "metadata": {
        "id": "vSeTLJmOGz5U",
        "colab": {
          "base_uri": "https://localhost:8080/",
          "height": 191
        },
        "outputId": "96905593-d808-45ac-b24d-fa6f4ae03f3b"
      },
      "execution_count": 65,
      "outputs": [
        {
          "output_type": "display_data",
          "data": {
            "text/plain": [
              "['Case_Number',\n",
              " 'Date',\n",
              " 'Attack_Type',\n",
              " 'Country',\n",
              " 'Activity',\n",
              " 'Victim_Name',\n",
              " 'Sex',\n",
              " 'Age',\n",
              " 'Fatal',\n",
              " 'Shark_Type']"
            ]
          },
          "metadata": {}
        }
      ]
    },
    {
      "cell_type": "code",
      "source": [
        "#Check if the code worked out fine! > it does!\n",
        "#find_non_default_missing_values(df2, 'Date', 'datetime64')\n",
        "#find_non_default_missing_values(df2, \"Country\", \"str\") "
      ],
      "metadata": {
        "id": "xe9-Clq1_sez"
      },
      "execution_count": 66,
      "outputs": []
    },
    {
      "cell_type": "code",
      "source": [
        "# Decide for every column what to do with the default Null values and replace \n",
        "# in for example: NaN, None, NaT, Unknown, False etc.\n",
        "\n",
        "#using this function:\n",
        "from dataclasses import replace\n",
        "def replace_value(df2, column_name, missing_old, missing_new):\n",
        "  # ⚠️ Mutates df\n",
        "  df2[column_name] = df2[column_name].replace({missing_old: missing_new})\n",
        "\n",
        "#and helper functions:\n",
        "def display_default_null_values(df, column_name):\n",
        "  nulls = df.loc[df[column_name].isnull()]\n",
        "  print(f\"Number of default null values in \\\"{column_name}\\\": {len(nulls)}\")\n",
        "\n",
        "# ✅ Case_Number\n",
        "#find_non_default_missing_values(df2, 'Case_Number','string')\n",
        "#action > replace '0' into None\n",
        "replace_value(df2, 'Case_Number', '0', None)\n",
        "replace_value(df2, 'Case_Number', 'NaN', None)\n",
        "#find_non_default_missing_values(df2, 'Case_Number','string') #rerun to check result\n",
        "\n",
        "# ✅ Date\n",
        "#find_non_default_missing_values(df2, 'Date','datetime64')\n",
        "#action > replace Nan's into NaT\n",
        "replace_value(df2, 'Date', np.nan, np.datetime64('nat'))\n",
        "#find_non_default_missing_values(df2, 'Date','datetime64') #rerun to check result\n",
        "\n",
        "# ✅ Attack_Type\n",
        "#find_non_default_missing_values(df2, 'Attack_Type','str') \n",
        "#action > replace Boat and Boatomg to Boating > replace Invalid to None\n",
        "replace_value(df2, 'Attack_Type', 'Boat', 'Boating')\n",
        "replace_value(df2, 'Attack_Type', 'Boatomg', 'Boating')\n",
        "replace_value(df2, 'Attack_Type', 'Invalid', None)\n",
        "replace_value(df2, 'Attack_Type', np.nan, None)\n",
        "#find_non_default_missing_values(df2, 'Attack_Type','str')  #rerun to check result\n",
        "\n",
        "# ✅ Country\n",
        "#find_non_default_missing_values(df2, 'Country','str')\n",
        "#no action needed\n",
        "\n",
        "# ✅ Area\n",
        "#find_non_default_missing_values(df2, 'Area','str')\n",
        "#no action needed\n",
        "\n",
        "# ✅ Location\n",
        "#find_non_default_missing_values(df2, 'Location', 'str')\n",
        "#no action needed\n",
        "\n",
        "# ✅ Activity\n",
        "#find_non_default_missing_values(df2, 'Activity', 'str')\n",
        "#action > replace NaN's into 'Unknown'\n",
        "replace_value(df2, 'Activity', np.nan, None)\n",
        "replace_value(df2, 'Activity', 'Swimming ', 'Swimming')\n",
        "#find_non_default_missing_values(df2, 'Activity', 'str') #rerun to check result\n",
        "\n",
        "# ✅ Victim_Name\n",
        "#find_non_default_missing_values(df2, 'Victim_Name',\"str\")\n",
        "replace_value(df2, 'Victim_Name', np.nan, None)\n",
        "#find_non_default_missing_values(df2, 'Victim_Name', 'str') #rerun to check result\n",
        "# ⚠️ Interesting: values in this column Female, Male, Boy can \n",
        "#     be useful in column 'Sex ' to fill missing values there!!!\n",
        "\n",
        "# ✅ Sex\n",
        "#find_non_default_missing_values(df2, 'Sex','bool')\n",
        "#df2.Sex.unique()\n",
        "replace_value(df2, 'Sex', 'M ', 'M')\n",
        "replace_value(df2, 'Sex', '.', np.nan)\n",
        "replace_value(df2, 'Sex', 'N', np.nan)\n",
        "replace_value(df2, 'Sex', 'lli', np.nan)\n",
        "replace_value(df2, 'Sex', 'Unknown', np.nan)\n",
        "#find_non_default_missing_values(df2, 'Sex','bool')\n",
        "\n",
        "# ✅ Age\n",
        "#find_non_default_missing_values(df2, 'Age', 'int')\n",
        "#puinhoop column - veel acties - zie ook liveles DA Simon\n",
        "#check df.Age.value_counts()\n",
        "#check df.Age.value_counts()['Teens'] etc. frequentie te laag om df aan te passen.\n",
        "#Keuze gemaakt om alle str values omzetten naar NaN's middels volgende functie:\n",
        "def cleanup_age(value):\n",
        "  try:\n",
        "    return int(value)\n",
        "  except:\n",
        "    return np.nan\n",
        "\n",
        "#df.Age = df.Age.apply(cleanup_age)\n",
        "#testing def\n",
        "#cleanup_age('Teen')\n",
        "#cleanup_age('11') \n",
        "#df.Age.unique()\n",
        "#find_non_default_missing_values(df2, 'Age', 'int')\n",
        "\n",
        "# ✅ Injury\n",
        "#find_non_default_missing_values(df2, 'Injury', 'str')\n",
        "# ⚠️ Interesting: Provoked in string, search in fillin column Attack_Type???\n",
        "# ⚠️ Interesting: FATAL in string, search in fillin column FATAL(Y/N)???\n",
        "#choose to don't clean up this columns at the moment!\n",
        "\n",
        "# ✅ Fatal\n",
        "#find_non_default_missing_values(df2, 'Fatal','bool')   #toodoooo clean up\n",
        "replace_value(df2, 'Fatal', ' N', 'N')\n",
        "replace_value(df2, 'Fatal', 'N ', 'N')\n",
        "replace_value(df2, 'Fatal', 'y', 'Y')\n",
        "replace_value(df2, 'Fatal', 'M', 'N') #assume it's a typo\n",
        "replace_value(df2, 'Fatal', '2017', np.nan)\n",
        "#find_non_default_missing_values(df2, 'Fatal','bool')\n",
        "\n",
        "# ✅ Time\n",
        "#find_non_default_missing_values(df2, 'Time','datetime64')\n",
        "#No action needed at this moment, maybe in future analyse questions\n",
        "\n",
        "# ✅ Shark_Type\n",
        "#find_non_default_missing_values(df2, 'Shark_Type', 'str')\n",
        "replace_value(df2, 'Shark_Type', 'Invalid', None)\n",
        "replace_value(df2, 'Shark_Type', np.nan, None)\n",
        "replace_value(df2, 'Shark_Type', 'Shark involvement not confirmed', None)\n",
        "replace_value(df2, 'Shark_Type', 'Shark involvement prior to death was not confirmed', None)\n",
        "replace_value(df2, 'Shark_Type', 'Shark involvement prior to death unconfirmed', None)\n",
        "replace_value(df2, 'Shark_Type', '\\xa0', None)\n",
        "replace_value(df2, 'Shark_Type', '', None)\n",
        "replace_value(df2, 'Shark_Type', 'Unidentified shark', None)\n",
        "#find_non_default_missing_values(df2, 'Shark_Type', 'str')"
      ],
      "metadata": {
        "id": "NgeJz6YBCqRC",
        "colab": {
          "base_uri": "https://localhost:8080/",
          "height": 1000
        },
        "outputId": "175bd2e2-2f3a-4d33-ddfb-34c5fe140764"
      },
      "execution_count": 67,
      "outputs": [
        {
          "output_type": "stream",
          "name": "stdout",
          "text": [
            "\n",
            "\n",
            "***************************************************************************\n",
            "Finding non default missing values for column 'Shark_Type'\n",
            "***************************************************************************\n",
            "Column 'Shark_Type'has datatype: object\n",
            "\n",
            "\n",
            "-----------------------------------\n",
            "A: Looking at unique values\n",
            "-----------------------------------\n",
            "More than 50 unique values (total: 1545)\n",
            "\n",
            "\n",
            "-----------------------------------\n",
            "B: Sorting and looking at the edges\n",
            "-----------------------------------\n",
            "Could not sort values: '<' not supported between instances of 'NoneType' and 'str'\n",
            "..so let's try filtering NULL values and then sorting\n"
          ]
        },
        {
          "output_type": "display_data",
          "data": {
            "text/plain": [
              "[' ',\n",
              " ' \"gummy\" shark (Rhizoprionodon or Loxodon) 1.2 m [4\\']',\n",
              " \" 1.5 m [5'] dusky shark\",\n",
              " \" 6' to 8' shark\",\n",
              " \" Blacktip shark, C. maculipinnis. 1.9 m to 2.1 m [6.5' to 7'] \",\n",
              " ' Bull shark, 1.2m ',\n",
              " ' Bull shark, 2.5 m',\n",
              " \" Bull shark, 5'\",\n",
              " \" Bull shark, 8'\",\n",
              " \" Galapagos shark, 6'\"]"
            ]
          },
          "metadata": {}
        },
        {
          "output_type": "display_data",
          "data": {
            "text/plain": [
              "['small hammerhead shark',\n",
              " 'small nurse shark',\n",
              " 'small shark',\n",
              " 'small sharks',\n",
              " \"small sharks'\",\n",
              " 'unknown, possibly a white shark',\n",
              " 'whaler shark',\n",
              " 'white shark',\n",
              " '\\xa0 ',\n",
              " '“small brown shark”']"
            ]
          },
          "metadata": {}
        },
        {
          "output_type": "stream",
          "name": "stdout",
          "text": [
            "\n",
            "\n",
            "-----------------------------------\n",
            "C: Casting to type: str\n",
            "-----------------------------------\n",
            "Casting to str was successful\n",
            "\n",
            "\n",
            "-----------------------------------\n",
            "D: Looking at frequency\n",
            "-----------------------------------\n"
          ]
        },
        {
          "output_type": "display_data",
          "data": {
            "text/plain": [
              "NaN                                                                                                                              22623\n",
              "White shark                                                                                                                        163\n",
              "Tiger shark                                                                                                                         73\n",
              "Bull shark                                                                                                                          52\n",
              "4' shark                                                                                                                            40\n",
              "                                                                                                                                 ...  \n",
              "Bull shark, 2.3 m [7.5']                                                                                                             1\n",
              "0.9 m  [3'] shark                                                                                                                    1\n",
              "Mako shark, 14'                                                                                                                      1\n",
              "1.9 m [6.5'] bull shark                                                                                                              1\n",
              "Said to involve a grey nurse shark that leapt out of the water and  seized the boy but species identification is questionable        1\n",
              "Name: Shark_Type, Length: 1545, dtype: int64"
            ]
          },
          "metadata": {}
        },
        {
          "output_type": "stream",
          "name": "stdout",
          "text": [
            "\n",
            "\n"
          ]
        }
      ]
    },
    {
      "cell_type": "code",
      "source": [
        "# after that:\n",
        "# Replace missing values with tactics as dropna, fill_values etc.\n",
        "\n",
        "#Just a little test:\n",
        "percent_missing = df2.isnull().mean() * 100\n",
        "display(percent_missing)\n",
        "\n",
        "#first I want to get rid of all rows with only NaN's!\n",
        "df3 = df2.dropna(how='all')\n",
        "\n",
        "#At the moment I decide not to do more actions, just to avoid BIAS's"
      ],
      "metadata": {
        "id": "M4PaGLUPCte-",
        "colab": {
          "base_uri": "https://localhost:8080/",
          "height": 208
        },
        "outputId": "6b800682-5552-418d-ec58-5a4b18b8606f"
      },
      "execution_count": 68,
      "outputs": [
        {
          "output_type": "display_data",
          "data": {
            "text/plain": [
              "Case_Number    75.500525\n",
              "Date           75.500525\n",
              "Attack_Type    77.642577\n",
              "Country        75.694903\n",
              "Activity       77.615364\n",
              "Victim_Name    76.316915\n",
              "Sex            77.712553\n",
              "Age            86.506240\n",
              "Fatal          77.599813\n",
              "Shark_Type     87.948529\n",
              "dtype: float64"
            ]
          },
          "metadata": {}
        }
      ]
    },
    {
      "cell_type": "code",
      "source": [
        "df3.shape"
      ],
      "metadata": {
        "id": "WlU0yrFEIJN8",
        "colab": {
          "base_uri": "https://localhost:8080/"
        },
        "outputId": "864e4918-436e-414f-a079-de3f185549b5"
      },
      "execution_count": 69,
      "outputs": [
        {
          "output_type": "execute_result",
          "data": {
            "text/plain": [
              "(6303, 10)"
            ]
          },
          "metadata": {},
          "execution_count": 69
        }
      ]
    },
    {
      "cell_type": "code",
      "source": [
        "#repareren Age kolom \n",
        "#casten naar int lukt niet\n",
        "#mbv fillna NaN's omgezet naar Unknown, lijkt floats om te zetten naar int...\n",
        "#df3.Age()\n",
        "values = {'Age': 'Unknown'}\n",
        "df4 = df3.fillna(value=values)\n",
        "#df4.info()\n",
        "df4.sample(5)"
      ],
      "metadata": {
        "id": "fuGYmUhcDj6W"
      },
      "execution_count": null,
      "outputs": []
    },
    {
      "cell_type": "code",
      "source": [
        "#QUESTION 1. WHAT ARE THE MOST DANGEROUS TYPES OF SHARKS TO HUMANS?\n",
        "\n",
        "#to answer this question we need to count the values in column Shark_Type \n",
        "#and be aware of different string values like White, white, shark, Sharks etc.\n",
        "\n",
        "display(df4.Shark_Type.value_counts().head(15)) #gives indication that the White shark attacks the most. \n",
        "#try to check this out!\n",
        "\n",
        "#trying a nice way to showing the answer of Q1\n",
        "print(\"\\n\")\n",
        "print(f\"The most dangerous shark to humans is the {df4.loc[:0, 'Shark_Type']}!\")  #almost getting there... ;-)\n",
        "print(\"\\n\")\n",
        "\n",
        "#ANSWER: White sharks are the most dangerous types of sharks to humans!\n",
        "\n",
        "df4.Shark_Type.value_counts().head(15).plot(kind='bar')\n",
        "plt.title('What are the most dangerous types of sharks to humans?')\n",
        "plt.xlabel('Shark Types')\n",
        "plt.ylabel('Number of Attacks')"
      ],
      "metadata": {
        "id": "5gi3uH-ENjAt",
        "colab": {
          "base_uri": "https://localhost:8080/",
          "height": 794
        },
        "outputId": "2eeecd45-8b79-4913-b159-3501928cdd5d"
      },
      "execution_count": 71,
      "outputs": [
        {
          "output_type": "display_data",
          "data": {
            "text/plain": [
              "White shark              163\n",
              "Tiger shark               73\n",
              "Bull shark                52\n",
              "4' shark                  40\n",
              "6' shark                  40\n",
              "Questionable incident     35\n",
              "1.8 m [6'] shark          35\n",
              "Questionable              34\n",
              "1.5 m [5'] shark          32\n",
              "1.2 m [4'] shark          27\n",
              "3' shark                  26\n",
              "5' shark                  26\n",
              "2 m shark                 25\n",
              "4' to 5' shark            24\n",
              "3 m [10'] shark           22\n",
              "Name: Shark_Type, dtype: int64"
            ]
          },
          "metadata": {}
        },
        {
          "output_type": "stream",
          "name": "stdout",
          "text": [
            "\n",
            "\n",
            "The most dangerous shark to humans is the 0    White shark\n",
            "Name: Shark_Type, dtype: object!\n",
            "\n",
            "\n"
          ]
        },
        {
          "output_type": "execute_result",
          "data": {
            "text/plain": [
              "Text(0, 0.5, 'Number of Attacks')"
            ]
          },
          "metadata": {},
          "execution_count": 71
        },
        {
          "output_type": "display_data",
          "data": {
            "text/plain": [
              "<Figure size 432x288 with 1 Axes>"
            ],
            "image/png": "[encoded data removed]"
          },
          "metadata": {
            "needs_background": "light"
          }
        }
      ]
    },
    {
      "cell_type": "code",
      "source": [
        "#Q1 - Keep on filtering and testing\n",
        "\n",
        "#selecting out the rows in column Shark_Type with strings that contain shark/sharks\n",
        "df_question1 = df4.loc[df4.Shark_Type.str.contains('shark|sharks', na=False)]\n",
        "\n",
        "#more White Sharks are coming out selecting on selecting: white/White\n",
        "df_question1_2 = df_question1.loc[df_question1.Shark_Type.str.contains('white |White ', na=False)]\n",
        "\n",
        "#explore new df\n",
        "#df_question1_2.info()\n",
        "#df_question1_2.describe()\n",
        "\n",
        "#hoeveel witte haaien tel ik na 'doorfiltering'?\n",
        "print(\"\\n\")\n",
        "print('The real number of White Shark attacks is:')\n",
        "print(df_question1_2.Shark_Type.count())\n",
        "\n",
        "print(\"\\n\")\n",
        "\n"
      ],
      "metadata": {
        "id": "hzfVavBTzJWr",
        "colab": {
          "base_uri": "https://localhost:8080/"
        },
        "outputId": "1cc79b3a-548b-4ab7-bd0f-86b10ac6221c"
      },
      "execution_count": 72,
      "outputs": [
        {
          "output_type": "stream",
          "name": "stdout",
          "text": [
            "\n",
            "\n",
            "The real number of White Shark attacks is:\n",
            "635\n",
            "\n",
            "\n"
          ]
        }
      ]
    },
    {
      "cell_type": "code",
      "source": [
        "#QUESTION 2. ARE CHILDREN MORE LIKELY TO BE ATTACKED BY SHARKS?\n",
        "\n",
        "#to find the answer I would like to make a scatterchart to view the relationship between ages and attacks\n",
        "#first some sorting things\n",
        "df_question2_ages = df4.Age.value_counts().head(30).sort_values(ascending=False)\n",
        "df_question2 = df_question2_ages.to_frame()\n",
        "#df_question2_ages\n",
        "#display(df_question2)\n",
        "\n",
        "#try to remove second row Unknown 22252\n",
        "#rename columns\n",
        "df2_question2 = df_question2.rename(columns={'Age': 'Attack_per_Age'})\n",
        "df2_question2 = df2_question2.drop(df2_question2.index[0])\n",
        "\n",
        "df2_question2['Age'] = df2_question2.index\n",
        "\n",
        "df2_question2.head(15)\n",
        "\n",
        "#changing dtype column Ages from str into int\n",
        "df2_question2 = df2_question2.astype({'Age': int})\n",
        "df2_question2.dtypes"
      ],
      "metadata": {
        "id": "rRSHms1FBxkE",
        "colab": {
          "base_uri": "https://localhost:8080/"
        },
        "outputId": "823fcca2-57d5-41fd-a199-14cc89bcd134"
      },
      "execution_count": 73,
      "outputs": [
        {
          "output_type": "execute_result",
          "data": {
            "text/plain": [
              "Attack_per_Age    int64\n",
              "Age               int64\n",
              "dtype: object"
            ]
          },
          "metadata": {},
          "execution_count": 73
        }
      ]
    },
    {
      "cell_type": "code",
      "source": [
        "#filtering < 18\n",
        "SharkAttacks_Children = df2_question2.loc[df2_question2.Age < 18, ['Age', 'Attack_per_Age']]\n",
        "print(\"\\n\")\n",
        "print(\"The total number of shark attack < 18 years appears to be: \")\n",
        "print(SharkAttacks_Children.Attack_per_Age.sum())\n",
        "print(\"\\n\")"
      ],
      "metadata": {
        "colab": {
          "base_uri": "https://localhost:8080/"
        },
        "id": "p2z3V6Se2vKV",
        "outputId": "e3e30de9-2dbf-451f-e1c5-7ae7be6498d6"
      },
      "execution_count": 74,
      "outputs": [
        {
          "output_type": "stream",
          "name": "stdout",
          "text": [
            "\n",
            "\n",
            "The total number of shark attack < 18 years appears to be: \n",
            "755\n",
            "\n",
            "\n"
          ]
        }
      ]
    },
    {
      "cell_type": "code",
      "source": [
        "#filtering >= 18\n",
        "SharkAttacks_Addults = df2_question2.loc[df2_question2.Age >= 18, ['Age', 'Attack_per_Age']]\n",
        "print(\"\\n\")\n",
        "print(\"The total number of shark attack >= 18 years appears to be: \")\n",
        "print(SharkAttacks_Addults.Attack_per_Age.sum())\n",
        "print(\"\\n\")"
      ],
      "metadata": {
        "colab": {
          "base_uri": "https://localhost:8080/"
        },
        "id": "TWMClZCQ5hTi",
        "outputId": "22f8506f-58da-4c10-8152-d19f53820dd2"
      },
      "execution_count": 75,
      "outputs": [
        {
          "output_type": "stream",
          "name": "stdout",
          "text": [
            "\n",
            "\n",
            "The total number of shark attack >= 18 years appears to be: \n",
            "1832\n",
            "\n",
            "\n"
          ]
        }
      ]
    },
    {
      "cell_type": "code",
      "source": [
        "#doe some plotting\n",
        "#SharkAttacks_Children.plot.scatter(x='Age', y='Attack_per_Age')\n",
        "#SharkAttacks_Addults.plot.scatter(x='Age', y='Attack_per_Age')"
      ],
      "metadata": {
        "id": "15NWP1A95E3s"
      },
      "execution_count": 76,
      "outputs": []
    },
    {
      "cell_type": "code",
      "source": [
        "#Q2 - PLOT\n",
        "\n",
        "#df2_question2.head(25).plot.scatter(y='Attack_per_Age', x='Age')\n",
        "#df2_question2.head(15).plot.pie(y='Attack_per_Age', x='Age')\n",
        "#df2_question2.head(35).plot.scatter(x= 'Age', y='Attack_per_Age')\n",
        "df2_question2.plot.scatter(y='Attack_per_Age', x='Age')\n",
        "\n",
        "plt.title('Shark Attacks per Age')\n",
        "plt.xlabel('Age of Shark Attack victums')\n",
        "plt.ylabel('Shark Attacks', rotation=90)\n",
        "plt.grid() \n"
      ],
      "metadata": {
        "colab": {
          "base_uri": "https://localhost:8080/",
          "height": 295
        },
        "id": "WHi6-PEGi8wf",
        "outputId": "ed143a58-cb75-4818-a066-801115725a81"
      },
      "execution_count": 77,
      "outputs": [
        {
          "output_type": "display_data",
          "data": {
            "text/plain": [
              "<Figure size 432x288 with 1 Axes>"
            ],
            "image/png": "[encoded data removed]"
          },
          "metadata": {
            "needs_background": "light"
          }
        }
      ]
    },
    {
      "cell_type": "code",
      "source": [
        "#Q2 - Answer\n",
        "# According to the total number of shark attacks \n",
        "# it appears that children (<18) are NOT more likely to be attacked by sharks!\n",
        "# Take a look at the plot above to see the results!\n",
        "# But keep in mind that addults are more surfing, fishing and so on..."
      ],
      "metadata": {
        "id": "xLHvHXnuB-TP"
      },
      "execution_count": 78,
      "outputs": []
    },
    {
      "cell_type": "code",
      "source": [
        "#QUESTION 3 - ARE SHARKS ATTACKS WHERE SHARKS WERE PROVOKED MORE OF LESS DANGEROUS?\n",
        "#goal: to make a barchart with these 4 values in it. #plot.bar(stacked=True)?\n",
        "#start to make a df with the columns Attack_Type and Fatal!\n",
        "df5 = df3.loc[:, ['Attack_Type','Fatal']]\n",
        "df5.head(10)"
      ],
      "metadata": {
        "id": "EUIkoXE2V59L",
        "colab": {
          "base_uri": "https://localhost:8080/",
          "height": 304
        },
        "outputId": "0fc268d9-3f62-42fe-d810-14a873b8302e"
      },
      "execution_count": 79,
      "outputs": [
        {
          "output_type": "execute_result",
          "data": {
            "text/plain": [
              "  Attack_Type Fatal\n",
              "0     Boating     N\n",
              "1  Unprovoked     N\n",
              "2        None     N\n",
              "3  Unprovoked     N\n",
              "4    Provoked     N\n",
              "5  Unprovoked     N\n",
              "6  Unprovoked     Y\n",
              "7  Unprovoked     N\n",
              "8  Unprovoked     N\n",
              "9  Unprovoked     N"
            ],
            "text/html": [
              "\n",
              "  <div id=\"df-be6620ea-e5cd-48ce-b65a-e575cc19f6d4\">\n",
              "    <div class=\"colab-df-container\">\n",
              "      <div>\n",
              "<style scoped>\n",
              "    .dataframe tbody tr th:only-of-type {\n",
              "        vertical-align: middle;\n",
              "    }\n",
              "\n",
              "    .dataframe tbody tr th {\n",
              "        vertical-align: top;\n",
              "    }\n",
              "\n",
              "    .dataframe thead th {\n",
              "        text-align: right;\n",
              "    }\n",
              "</style>\n",
              "<table border=\"1\" class=\"dataframe\">\n",
              "  <thead>\n",
              "    <tr style=\"text-align: right;\">\n",
              "      <th></th>\n",
              "      <th>Attack_Type</th>\n",
              "      <th>Fatal</th>\n",
              "    </tr>\n",
              "  </thead>\n",
              "  <tbody>\n",
              "    <tr>\n",
              "      <th>0</th>\n",
              "      <td>Boating</td>\n",
              "      <td>N</td>\n",
              "    </tr>\n",
              "    <tr>\n",
              "      <th>1</th>\n",
              "      <td>Unprovoked</td>\n",
              "      <td>N</td>\n",
              "    </tr>\n",
              "    <tr>\n",
              "      <th>2</th>\n",
              "      <td>None</td>\n",
              "      <td>N</td>\n",
              "    </tr>\n",
              "    <tr>\n",
              "      <th>3</th>\n",
              "      <td>Unprovoked</td>\n",
              "      <td>N</td>\n",
              "    </tr>\n",
              "    <tr>\n",
              "      <th>4</th>\n",
              "      <td>Provoked</td>\n",
              "      <td>N</td>\n",
              "    </tr>\n",
              "    <tr>\n",
              "      <th>5</th>\n",
              "      <td>Unprovoked</td>\n",
              "      <td>N</td>\n",
              "    </tr>\n",
              "    <tr>\n",
              "      <th>6</th>\n",
              "      <td>Unprovoked</td>\n",
              "      <td>Y</td>\n",
              "    </tr>\n",
              "    <tr>\n",
              "      <th>7</th>\n",
              "      <td>Unprovoked</td>\n",
              "      <td>N</td>\n",
              "    </tr>\n",
              "    <tr>\n",
              "      <th>8</th>\n",
              "      <td>Unprovoked</td>\n",
              "      <td>N</td>\n",
              "    </tr>\n",
              "    <tr>\n",
              "      <th>9</th>\n",
              "      <td>Unprovoked</td>\n",
              "      <td>N</td>\n",
              "    </tr>\n",
              "  </tbody>\n",
              "</table>\n",
              "</div>\n",
              "      <button class=\"colab-df-convert\" onclick=\"convertToInteractive('df-be6620ea-e5cd-48ce-b65a-e575cc19f6d4')\"\n",
              "              title=\"Convert this dataframe to an interactive table.\"\n",
              "              style=\"display:none;\">\n",
              "        \n",
              "  <svg xmlns=\"http://www.w3.org/2000/svg\" height=\"24px\"viewBox=\"0 0 24 24\"\n",
              "       width=\"24px\">\n",
              "    <path d=\"M0 0h24v24H0V0z\" fill=\"none\"/>\n",
              "    <path d=\"M18.56 5.44l.94 2.06.94-2.06 2.06-.94-2.06-.94-.94-2.06-.94 2.06-2.06.94zm-11 1L8.5 8.5l.94-2.06 2.06-.94-2.06-.94L8.5 2.5l-.94 2.06-2.06.94zm10 10l.94 2.06.94-2.06 2.06-.94-2.06-.94-.94-2.06-.94 2.06-2.06.94z\"/><path d=\"M17.41 7.96l-1.37-1.37c-.4-.4-.92-.59-1.43-.59-.52 0-1.04.2-1.43.59L10.3 9.45l-7.72 7.72c-.78.78-.78 2.05 0 2.83L4 21.41c.39.39.9.59 1.41.59.51 0 1.02-.2 1.41-.59l7.78-7.78 2.81-2.81c.8-.78.8-2.07 0-2.86zM5.41 20L4 18.59l7.72-7.72 1.47 1.35L5.41 20z\"/>\n",
              "  </svg>\n",
              "      </button>\n",
              "      \n",
              "  <style>\n",
              "    .colab-df-container {\n",
              "      display:flex;\n",
              "      flex-wrap:wrap;\n",
              "      gap: 12px;\n",
              "    }\n",
              "\n",
              "    .colab-df-convert {\n",
              "      background-color: #E8F0FE;\n",
              "      border: none;\n",
              "      border-radius: 50%;\n",
              "      cursor: pointer;\n",
              "      display: none;\n",
              "      fill: #1967D2;\n",
              "      height: 32px;\n",
              "      padding: 0 0 0 0;\n",
              "      width: 32px;\n",
              "    }\n",
              "\n",
              "    .colab-df-convert:hover {\n",
              "      background-color: #E2EBFA;\n",
              "      box-shadow: 0px 1px 2px rgba(60, 64, 67, 0.3), 0px 1px 3px 1px rgba(60, 64, 67, 0.15);\n",
              "      fill: #174EA6;\n",
              "    }\n",
              "\n",
              "    [theme=dark] .colab-df-convert {\n",
              "      background-color: #3B4455;\n",
              "      fill: #D2E3FC;\n",
              "    }\n",
              "\n",
              "    [theme=dark] .colab-df-convert:hover {\n",
              "      background-color: #434B5C;\n",
              "      box-shadow: 0px 1px 3px 1px rgba(0, 0, 0, 0.15);\n",
              "      filter: drop-shadow(0px 1px 2px rgba(0, 0, 0, 0.3));\n",
              "      fill: #FFFFFF;\n",
              "    }\n",
              "  </style>\n",
              "\n",
              "      <script>\n",
              "        const buttonEl =\n",
              "          document.querySelector('#df-be6620ea-e5cd-48ce-b65a-e575cc19f6d4 button.colab-df-convert');\n",
              "        buttonEl.style.display =\n",
              "          google.colab.kernel.accessAllowed ? 'block' : 'none';\n",
              "\n",
              "        async function convertToInteractive(key) {\n",
              "          const element = document.querySelector('#df-be6620ea-e5cd-48ce-b65a-e575cc19f6d4');\n",
              "          const dataTable =\n",
              "            await google.colab.kernel.invokeFunction('convertToInteractive',\n",
              "                                                     [key], {});\n",
              "          if (!dataTable) return;\n",
              "\n",
              "          const docLinkHtml = 'Like what you see? Visit the ' +\n",
              "            '<a target=\"_blank\" href=https://colab.research.google.com/notebooks/data_table.ipynb>data table notebook</a>'\n",
              "            + ' to learn more about interactive tables.';\n",
              "          element.innerHTML = '';\n",
              "          dataTable['output_type'] = 'display_data';\n",
              "          await google.colab.output.renderOutput(dataTable, element);\n",
              "          const docLink = document.createElement('div');\n",
              "          docLink.innerHTML = docLinkHtml;\n",
              "          element.appendChild(docLink);\n",
              "        }\n",
              "      </script>\n",
              "    </div>\n",
              "  </div>\n",
              "  "
            ],
            "application/vnd.google.colaboratory.module+javascript": "\n      import \"https://ssl.gstatic.com/colaboratory/data_table/f872b2c2305463fd/data_table.js\";\n\n      window.createDataTable({\n        data: [[{\n            'v': 0,\n            'f': \"0\",\n        },\n\"Boating\",\n\"N\"],\n [{\n            'v': 1,\n            'f': \"1\",\n        },\n\"Unprovoked\",\n\"N\"],\n [{\n            'v': 2,\n            'f': \"2\",\n        },\nnull,\n\"N\"],\n [{\n            'v': 3,\n            'f': \"3\",\n        },\n\"Unprovoked\",\n\"N\"],\n [{\n            'v': 4,\n            'f': \"4\",\n        },\n\"Provoked\",\n\"N\"],\n [{\n            'v': 5,\n            'f': \"5\",\n        },\n\"Unprovoked\",\n\"N\"],\n [{\n            'v': 6,\n            'f': \"6\",\n        },\n\"Unprovoked\",\n\"Y\"],\n [{\n            'v': 7,\n            'f': \"7\",\n        },\n\"Unprovoked\",\n\"N\"],\n [{\n            'v': 8,\n            'f': \"8\",\n        },\n\"Unprovoked\",\n\"N\"],\n [{\n            'v': 9,\n            'f': \"9\",\n        },\n\"Unprovoked\",\n\"N\"]],\n        columns: [[\"number\", \"index\"], [\"string\", \"Attack_Type\"], [\"string\", \"Fatal\"]],\n        columnOptions: [{\"width\": \"1px\", \"className\": \"index_column\"}],\n        rowsPerPage: 25,\n        helpUrl: \"https://colab.research.google.com/notebooks/data_table.ipynb\",\n        suppressOutputScrolling: true,\n        minimumWidth: undefined,\n      });\n    "
          },
          "metadata": {},
          "execution_count": 79
        }
      ]
    },
    {
      "cell_type": "code",
      "source": [
        "#Q3 - selecting the rows with Unprovoked/Provoked en Y/N in the columns Attack_Type and Fatal\n",
        "df_q3_Attack_Type = df5.loc[df5.Attack_Type.str.contains('Unprovoked|Provoked', na=False)]\n",
        "df_q3_Attack_Type.sample(5)"
      ],
      "metadata": {
        "id": "uwby3v-aMyTj",
        "colab": {
          "base_uri": "https://localhost:8080/",
          "height": 196
        },
        "outputId": "b5e6b904-9e24-49d5-e9f1-b5f9e91c86d1"
      },
      "execution_count": 80,
      "outputs": [
        {
          "output_type": "execute_result",
          "data": {
            "text/plain": [
              "     Attack_Type Fatal\n",
              "1386  Unprovoked     N\n",
              "2094  Unprovoked     N\n",
              "4529  Unprovoked     Y\n",
              "500   Unprovoked     Y\n",
              "1007  Unprovoked     N"
            ],
            "text/html": [
              "\n",
              "  <div id=\"df-5e36b3cc-e045-458c-9a46-9ac7f5c63d86\">\n",
              "    <div class=\"colab-df-container\">\n",
              "      <div>\n",
              "<style scoped>\n",
              "    .dataframe tbody tr th:only-of-type {\n",
              "        vertical-align: middle;\n",
              "    }\n",
              "\n",
              "    .dataframe tbody tr th {\n",
              "        vertical-align: top;\n",
              "    }\n",
              "\n",
              "    .dataframe thead th {\n",
              "        text-align: right;\n",
              "    }\n",
              "</style>\n",
              "<table border=\"1\" class=\"dataframe\">\n",
              "  <thead>\n",
              "    <tr style=\"text-align: right;\">\n",
              "      <th></th>\n",
              "      <th>Attack_Type</th>\n",
              "      <th>Fatal</th>\n",
              "    </tr>\n",
              "  </thead>\n",
              "  <tbody>\n",
              "    <tr>\n",
              "      <th>1386</th>\n",
              "      <td>Unprovoked</td>\n",
              "      <td>N</td>\n",
              "    </tr>\n",
              "    <tr>\n",
              "      <th>2094</th>\n",
              "      <td>Unprovoked</td>\n",
              "      <td>N</td>\n",
              "    </tr>\n",
              "    <tr>\n",
              "      <th>4529</th>\n",
              "      <td>Unprovoked</td>\n",
              "      <td>Y</td>\n",
              "    </tr>\n",
              "    <tr>\n",
              "      <th>500</th>\n",
              "      <td>Unprovoked</td>\n",
              "      <td>Y</td>\n",
              "    </tr>\n",
              "    <tr>\n",
              "      <th>1007</th>\n",
              "      <td>Unprovoked</td>\n",
              "      <td>N</td>\n",
              "    </tr>\n",
              "  </tbody>\n",
              "</table>\n",
              "</div>\n",
              "      <button class=\"colab-df-convert\" onclick=\"convertToInteractive('df-5e36b3cc-e045-458c-9a46-9ac7f5c63d86')\"\n",
              "              title=\"Convert this dataframe to an interactive table.\"\n",
              "              style=\"display:none;\">\n",
              "        \n",
              "  <svg xmlns=\"http://www.w3.org/2000/svg\" height=\"24px\"viewBox=\"0 0 24 24\"\n",
              "       width=\"24px\">\n",
              "    <path d=\"M0 0h24v24H0V0z\" fill=\"none\"/>\n",
              "    <path d=\"M18.56 5.44l.94 2.06.94-2.06 2.06-.94-2.06-.94-.94-2.06-.94 2.06-2.06.94zm-11 1L8.5 8.5l.94-2.06 2.06-.94-2.06-.94L8.5 2.5l-.94 2.06-2.06.94zm10 10l.94 2.06.94-2.06 2.06-.94-2.06-.94-.94-2.06-.94 2.06-2.06.94z\"/><path d=\"M17.41 7.96l-1.37-1.37c-.4-.4-.92-.59-1.43-.59-.52 0-1.04.2-1.43.59L10.3 9.45l-7.72 7.72c-.78.78-.78 2.05 0 2.83L4 21.41c.39.39.9.59 1.41.59.51 0 1.02-.2 1.41-.59l7.78-7.78 2.81-2.81c.8-.78.8-2.07 0-2.86zM5.41 20L4 18.59l7.72-7.72 1.47 1.35L5.41 20z\"/>\n",
              "  </svg>\n",
              "      </button>\n",
              "      \n",
              "  <style>\n",
              "    .colab-df-container {\n",
              "      display:flex;\n",
              "      flex-wrap:wrap;\n",
              "      gap: 12px;\n",
              "    }\n",
              "\n",
              "    .colab-df-convert {\n",
              "      background-color: #E8F0FE;\n",
              "      border: none;\n",
              "      border-radius: 50%;\n",
              "      cursor: pointer;\n",
              "      display: none;\n",
              "      fill: #1967D2;\n",
              "      height: 32px;\n",
              "      padding: 0 0 0 0;\n",
              "      width: 32px;\n",
              "    }\n",
              "\n",
              "    .colab-df-convert:hover {\n",
              "      background-color: #E2EBFA;\n",
              "      box-shadow: 0px 1px 2px rgba(60, 64, 67, 0.3), 0px 1px 3px 1px rgba(60, 64, 67, 0.15);\n",
              "      fill: #174EA6;\n",
              "    }\n",
              "\n",
              "    [theme=dark] .colab-df-convert {\n",
              "      background-color: #3B4455;\n",
              "      fill: #D2E3FC;\n",
              "    }\n",
              "\n",
              "    [theme=dark] .colab-df-convert:hover {\n",
              "      background-color: #434B5C;\n",
              "      box-shadow: 0px 1px 3px 1px rgba(0, 0, 0, 0.15);\n",
              "      filter: drop-shadow(0px 1px 2px rgba(0, 0, 0, 0.3));\n",
              "      fill: #FFFFFF;\n",
              "    }\n",
              "  </style>\n",
              "\n",
              "      <script>\n",
              "        const buttonEl =\n",
              "          document.querySelector('#df-5e36b3cc-e045-458c-9a46-9ac7f5c63d86 button.colab-df-convert');\n",
              "        buttonEl.style.display =\n",
              "          google.colab.kernel.accessAllowed ? 'block' : 'none';\n",
              "\n",
              "        async function convertToInteractive(key) {\n",
              "          const element = document.querySelector('#df-5e36b3cc-e045-458c-9a46-9ac7f5c63d86');\n",
              "          const dataTable =\n",
              "            await google.colab.kernel.invokeFunction('convertToInteractive',\n",
              "                                                     [key], {});\n",
              "          if (!dataTable) return;\n",
              "\n",
              "          const docLinkHtml = 'Like what you see? Visit the ' +\n",
              "            '<a target=\"_blank\" href=https://colab.research.google.com/notebooks/data_table.ipynb>data table notebook</a>'\n",
              "            + ' to learn more about interactive tables.';\n",
              "          element.innerHTML = '';\n",
              "          dataTable['output_type'] = 'display_data';\n",
              "          await google.colab.output.renderOutput(dataTable, element);\n",
              "          const docLink = document.createElement('div');\n",
              "          docLink.innerHTML = docLinkHtml;\n",
              "          element.appendChild(docLink);\n",
              "        }\n",
              "      </script>\n",
              "    </div>\n",
              "  </div>\n",
              "  "
            ],
            "application/vnd.google.colaboratory.module+javascript": "\n      import \"https://ssl.gstatic.com/colaboratory/data_table/f872b2c2305463fd/data_table.js\";\n\n      window.createDataTable({\n        data: [[{\n            'v': 1386,\n            'f': \"1386\",\n        },\n\"Unprovoked\",\n\"N\"],\n [{\n            'v': 2094,\n            'f': \"2094\",\n        },\n\"Unprovoked\",\n\"N\"],\n [{\n            'v': 4529,\n            'f': \"4529\",\n        },\n\"Unprovoked\",\n\"Y\"],\n [{\n            'v': 500,\n            'f': \"500\",\n        },\n\"Unprovoked\",\n\"Y\"],\n [{\n            'v': 1007,\n            'f': \"1007\",\n        },\n\"Unprovoked\",\n\"N\"]],\n        columns: [[\"number\", \"index\"], [\"string\", \"Attack_Type\"], [\"string\", \"Fatal\"]],\n        columnOptions: [{\"width\": \"1px\", \"className\": \"index_column\"}],\n        rowsPerPage: 25,\n        helpUrl: \"https://colab.research.google.com/notebooks/data_table.ipynb\",\n        suppressOutputScrolling: true,\n        minimumWidth: undefined,\n      });\n    "
          },
          "metadata": {},
          "execution_count": 80
        }
      ]
    },
    {
      "cell_type": "code",
      "source": [
        "#Q3 - counting Unprovoked/Provoked and Fatal Y/N\n",
        "df_q3_Attack_Type.value_counts()\n",
        "#results:"
      ],
      "metadata": {
        "colab": {
          "base_uri": "https://localhost:8080/"
        },
        "id": "-CbBIZ71WkAP",
        "outputId": "cdd04a62-848c-44b2-9e8b-7f9562b10668"
      },
      "execution_count": 81,
      "outputs": [
        {
          "output_type": "execute_result",
          "data": {
            "text/plain": [
              "Attack_Type  Fatal  \n",
              "Unprovoked   N          3351\n",
              "             Y          1181\n",
              "Provoked     N           549\n",
              "Unprovoked   UNKNOWN      57\n",
              "Provoked     Y            19\n",
              "             UNKNOWN       3\n",
              "dtype: int64"
            ]
          },
          "metadata": {},
          "execution_count": 81
        }
      ]
    },
    {
      "cell_type": "code",
      "source": [
        "#testing (normalize=True) > gives me the percentages!!!\n",
        "#bewaren om nog eens terug te kijken\n",
        "df28 = df_q3_Attack_Type.value_counts(normalize=True)\n",
        "df28"
      ],
      "metadata": {
        "id": "4sD5UfD5RGCr",
        "colab": {
          "base_uri": "https://localhost:8080/"
        },
        "outputId": "71a80089-f81d-417f-9fc2-0ff0e09a6852"
      },
      "execution_count": 82,
      "outputs": [
        {
          "output_type": "execute_result",
          "data": {
            "text/plain": [
              "Attack_Type  Fatal  \n",
              "Unprovoked   N          0.649419\n",
              "             Y          0.228876\n",
              "Provoked     N          0.106395\n",
              "Unprovoked   UNKNOWN    0.011047\n",
              "Provoked     Y          0.003682\n",
              "             UNKNOWN    0.000581\n",
              "dtype: float64"
            ]
          },
          "metadata": {},
          "execution_count": 82
        }
      ]
    },
    {
      "cell_type": "code",
      "source": [
        "#Q3 - Plotting\n",
        "#example via matplotlib.org website bar_stacked\n",
        "import matplotlib.pyplot as plt\n",
        "\n",
        "labels = ['Provoked', 'Unprovoked']\n",
        "fatal_y = [19, 1181]\n",
        "fatal_n = [549, 3351]\n",
        "width = 0.30       \n",
        "\n",
        "fig, ax = plt.subplots(figsize=(10,10))\n",
        "\n",
        "ax.bar(labels, fatal_y, width, label='Fatal = No')\n",
        "ax.bar(labels, fatal_n, width, bottom=fatal_y,\n",
        "       label='Fatal = Yess')\n",
        "\n",
        "ax.set_ylabel('Attacks')\n",
        "ax.set_title('Shark attacks Provoked versus Unprovoked')\n",
        "ax.legend(loc='upper center')\n",
        "plt.show()"
      ],
      "metadata": {
        "colab": {
          "base_uri": "https://localhost:8080/",
          "height": 607
        },
        "id": "RLNt-ZldJNkF",
        "outputId": "bea43700-4a1c-45c0-8dd0-b47d55e0122a"
      },
      "execution_count": 84,
      "outputs": [
        {
          "output_type": "display_data",
          "data": {
            "text/plain": [
              "<Figure size 720x720 with 1 Axes>"
            ],
            "image/png": "[encoded data removed]"
          },
          "metadata": {
            "needs_background": "light"
          }
        }
      ]
    },
    {
      "cell_type": "code",
      "source": [
        "#Q3 - Extra plot: try to calculate some percentages, didnot work out. Calculations by hand.\n",
        "#bewaren om nog eens terug te kijken!!\n",
        "# 1. Fatal attacks Y / Unprovoked Fatal attacks  * 100\n",
        "# 2. Fatal attacks Y / Provoked Fatal attacks * 100\n",
        "# 3. Fatal attacks N / Unprovoked Fatal attacks  * 100\n",
        "# 4. Fatal attacks N / Provoked Fatal attacks * 100\n",
        "\n",
        "#Q3 - Plotting\n",
        "#example via matplotlib.org website bar_stacked\n",
        "#import matplotlib.pyplot as plt\n",
        "\n",
        "#labels = ['Provoked', 'Unprovoked']\n",
        "#fatal_y = [3.3, 26.06]\n",
        "#fatal_n = [97.7, 73.94]\n",
        "#width = 0.25       \n",
        "\n",
        "#fig, ax = plt.subplots(figsize=(10,10))\n",
        "\n",
        "#ax.bar(labels, fatal_y, width, label='% Fatal = No')\n",
        "#ax.bar(labels, fatal_n, width, bottom=fatal_y)\n",
        "#ax.set_ylabel('Attacks')\n",
        "#ax.set_title('% Shark attacks Provoked versus Unprovoked')\n",
        "#ax.legend(loc='upper center')\n",
        "#plt.show()"
      ],
      "metadata": {
        "id": "7qj07ewNFPav"
      },
      "execution_count": null,
      "outputs": []
    },
    {
      "cell_type": "code",
      "source": [
        "# Q3 - Answer\n",
        "print(\"\\n\")\n",
        "print('Q3 Answer: Provoked Shark attacks are less dangerous then the Unprovoked!')\n",
        "print(\"\\n\")"
      ],
      "metadata": {
        "colab": {
          "base_uri": "https://localhost:8080/"
        },
        "id": "RrOWVrtmDTHm",
        "outputId": "826cb772-1909-4a11-b69d-8ca750625c74"
      },
      "execution_count": 115,
      "outputs": [
        {
          "output_type": "stream",
          "name": "stdout",
          "text": [
            "\n",
            "\n",
            "Q3 Answer: Provoked Shark attacks are less dangerous then the Unprovoked!\n",
            "\n",
            "\n"
          ]
        }
      ]
    },
    {
      "cell_type": "code",
      "source": [
        "#QUESTION 4: Are certain activities more likely to result in a shark attack?\n",
        "#quick answer: Certain activities are certainly more likely to result in a shark attack!\n",
        "#Surfing, Swimming and Fishing are not recommanded ;-)\n",
        "\n",
        "#but of course we will make the answer visual in a plot... \n",
        "\n",
        "#df3.loc['Activity'].value_counts().head(10)\n",
        "#df_q4 = df3.loc[:, ['Activity']].value_counts().head(15)\n",
        "#df_q4_2 = df_q4.to_frame() # make a df of it\n",
        "#df_q4_2.head(15)\n",
        "\n",
        "df_activities = pd.DataFrame(df3.loc[:,'Activity'].value_counts().head(15))  #use pd.DataFrame!!!\n",
        "df_activities_1 = df_activities.reset_index()                                # reset index!!!\n",
        "df_activities_2 = df_activities_1.rename(columns = {'index': 'Activity','Activity': 'Frequency'} ) #renamen én opslaan!!!\n",
        "df_activities_2.head(10)"
      ],
      "metadata": {
        "id": "2oLnMvcja6Be",
        "colab": {
          "base_uri": "https://localhost:8080/",
          "height": 304
        },
        "outputId": "6c809175-a9f8-4d0b-b7ac-d85bc79750de"
      },
      "execution_count": 97,
      "outputs": [
        {
          "output_type": "execute_result",
          "data": {
            "text/plain": [
              "       Activity  Frequency\n",
              "0       Surfing        971\n",
              "1      Swimming        916\n",
              "2       Fishing        431\n",
              "3  Spearfishing        333\n",
              "4       Bathing        162\n",
              "5        Wading        149\n",
              "6        Diving        127\n",
              "7      Standing         99\n",
              "8    Snorkeling         89\n",
              "9  Scuba diving         76"
            ],
            "text/html": [
              "\n",
              "  <div id=\"df-1d0d6803-a5c1-4b71-9a58-2f9bd00bb994\">\n",
              "    <div class=\"colab-df-container\">\n",
              "      <div>\n",
              "<style scoped>\n",
              "    .dataframe tbody tr th:only-of-type {\n",
              "        vertical-align: middle;\n",
              "    }\n",
              "\n",
              "    .dataframe tbody tr th {\n",
              "        vertical-align: top;\n",
              "    }\n",
              "\n",
              "    .dataframe thead th {\n",
              "        text-align: right;\n",
              "    }\n",
              "</style>\n",
              "<table border=\"1\" class=\"dataframe\">\n",
              "  <thead>\n",
              "    <tr style=\"text-align: right;\">\n",
              "      <th></th>\n",
              "      <th>Activity</th>\n",
              "      <th>Frequency</th>\n",
              "    </tr>\n",
              "  </thead>\n",
              "  <tbody>\n",
              "    <tr>\n",
              "      <th>0</th>\n",
              "      <td>Surfing</td>\n",
              "      <td>971</td>\n",
              "    </tr>\n",
              "    <tr>\n",
              "      <th>1</th>\n",
              "      <td>Swimming</td>\n",
              "      <td>916</td>\n",
              "    </tr>\n",
              "    <tr>\n",
              "      <th>2</th>\n",
              "      <td>Fishing</td>\n",
              "      <td>431</td>\n",
              "    </tr>\n",
              "    <tr>\n",
              "      <th>3</th>\n",
              "      <td>Spearfishing</td>\n",
              "      <td>333</td>\n",
              "    </tr>\n",
              "    <tr>\n",
              "      <th>4</th>\n",
              "      <td>Bathing</td>\n",
              "      <td>162</td>\n",
              "    </tr>\n",
              "    <tr>\n",
              "      <th>5</th>\n",
              "      <td>Wading</td>\n",
              "      <td>149</td>\n",
              "    </tr>\n",
              "    <tr>\n",
              "      <th>6</th>\n",
              "      <td>Diving</td>\n",
              "      <td>127</td>\n",
              "    </tr>\n",
              "    <tr>\n",
              "      <th>7</th>\n",
              "      <td>Standing</td>\n",
              "      <td>99</td>\n",
              "    </tr>\n",
              "    <tr>\n",
              "      <th>8</th>\n",
              "      <td>Snorkeling</td>\n",
              "      <td>89</td>\n",
              "    </tr>\n",
              "    <tr>\n",
              "      <th>9</th>\n",
              "      <td>Scuba diving</td>\n",
              "      <td>76</td>\n",
              "    </tr>\n",
              "  </tbody>\n",
              "</table>\n",
              "</div>\n",
              "      <button class=\"colab-df-convert\" onclick=\"convertToInteractive('df-1d0d6803-a5c1-4b71-9a58-2f9bd00bb994')\"\n",
              "              title=\"Convert this dataframe to an interactive table.\"\n",
              "              style=\"display:none;\">\n",
              "        \n",
              "  <svg xmlns=\"http://www.w3.org/2000/svg\" height=\"24px\"viewBox=\"0 0 24 24\"\n",
              "       width=\"24px\">\n",
              "    <path d=\"M0 0h24v24H0V0z\" fill=\"none\"/>\n",
              "    <path d=\"M18.56 5.44l.94 2.06.94-2.06 2.06-.94-2.06-.94-.94-2.06-.94 2.06-2.06.94zm-11 1L8.5 8.5l.94-2.06 2.06-.94-2.06-.94L8.5 2.5l-.94 2.06-2.06.94zm10 10l.94 2.06.94-2.06 2.06-.94-2.06-.94-.94-2.06-.94 2.06-2.06.94z\"/><path d=\"M17.41 7.96l-1.37-1.37c-.4-.4-.92-.59-1.43-.59-.52 0-1.04.2-1.43.59L10.3 9.45l-7.72 7.72c-.78.78-.78 2.05 0 2.83L4 21.41c.39.39.9.59 1.41.59.51 0 1.02-.2 1.41-.59l7.78-7.78 2.81-2.81c.8-.78.8-2.07 0-2.86zM5.41 20L4 18.59l7.72-7.72 1.47 1.35L5.41 20z\"/>\n",
              "  </svg>\n",
              "      </button>\n",
              "      \n",
              "  <style>\n",
              "    .colab-df-container {\n",
              "      display:flex;\n",
              "      flex-wrap:wrap;\n",
              "      gap: 12px;\n",
              "    }\n",
              "\n",
              "    .colab-df-convert {\n",
              "      background-color: #E8F0FE;\n",
              "      border: none;\n",
              "      border-radius: 50%;\n",
              "      cursor: pointer;\n",
              "      display: none;\n",
              "      fill: #1967D2;\n",
              "      height: 32px;\n",
              "      padding: 0 0 0 0;\n",
              "      width: 32px;\n",
              "    }\n",
              "\n",
              "    .colab-df-convert:hover {\n",
              "      background-color: #E2EBFA;\n",
              "      box-shadow: 0px 1px 2px rgba(60, 64, 67, 0.3), 0px 1px 3px 1px rgba(60, 64, 67, 0.15);\n",
              "      fill: #174EA6;\n",
              "    }\n",
              "\n",
              "    [theme=dark] .colab-df-convert {\n",
              "      background-color: #3B4455;\n",
              "      fill: #D2E3FC;\n",
              "    }\n",
              "\n",
              "    [theme=dark] .colab-df-convert:hover {\n",
              "      background-color: #434B5C;\n",
              "      box-shadow: 0px 1px 3px 1px rgba(0, 0, 0, 0.15);\n",
              "      filter: drop-shadow(0px 1px 2px rgba(0, 0, 0, 0.3));\n",
              "      fill: #FFFFFF;\n",
              "    }\n",
              "  </style>\n",
              "\n",
              "      <script>\n",
              "        const buttonEl =\n",
              "          document.querySelector('#df-1d0d6803-a5c1-4b71-9a58-2f9bd00bb994 button.colab-df-convert');\n",
              "        buttonEl.style.display =\n",
              "          google.colab.kernel.accessAllowed ? 'block' : 'none';\n",
              "\n",
              "        async function convertToInteractive(key) {\n",
              "          const element = document.querySelector('#df-1d0d6803-a5c1-4b71-9a58-2f9bd00bb994');\n",
              "          const dataTable =\n",
              "            await google.colab.kernel.invokeFunction('convertToInteractive',\n",
              "                                                     [key], {});\n",
              "          if (!dataTable) return;\n",
              "\n",
              "          const docLinkHtml = 'Like what you see? Visit the ' +\n",
              "            '<a target=\"_blank\" href=https://colab.research.google.com/notebooks/data_table.ipynb>data table notebook</a>'\n",
              "            + ' to learn more about interactive tables.';\n",
              "          element.innerHTML = '';\n",
              "          dataTable['output_type'] = 'display_data';\n",
              "          await google.colab.output.renderOutput(dataTable, element);\n",
              "          const docLink = document.createElement('div');\n",
              "          docLink.innerHTML = docLinkHtml;\n",
              "          element.appendChild(docLink);\n",
              "        }\n",
              "      </script>\n",
              "    </div>\n",
              "  </div>\n",
              "  "
            ],
            "application/vnd.google.colaboratory.module+javascript": "\n      import \"https://ssl.gstatic.com/colaboratory/data_table/f872b2c2305463fd/data_table.js\";\n\n      window.createDataTable({\n        data: [[{\n            'v': 0,\n            'f': \"0\",\n        },\n\"Surfing\",\n{\n            'v': 971,\n            'f': \"971\",\n        }],\n [{\n            'v': 1,\n            'f': \"1\",\n        },\n\"Swimming\",\n{\n            'v': 916,\n            'f': \"916\",\n        }],\n [{\n            'v': 2,\n            'f': \"2\",\n        },\n\"Fishing\",\n{\n            'v': 431,\n            'f': \"431\",\n        }],\n [{\n            'v': 3,\n            'f': \"3\",\n        },\n\"Spearfishing\",\n{\n            'v': 333,\n            'f': \"333\",\n        }],\n [{\n            'v': 4,\n            'f': \"4\",\n        },\n\"Bathing\",\n{\n            'v': 162,\n            'f': \"162\",\n        }],\n [{\n            'v': 5,\n            'f': \"5\",\n        },\n\"Wading\",\n{\n            'v': 149,\n            'f': \"149\",\n        }],\n [{\n            'v': 6,\n            'f': \"6\",\n        },\n\"Diving\",\n{\n            'v': 127,\n            'f': \"127\",\n        }],\n [{\n            'v': 7,\n            'f': \"7\",\n        },\n\"Standing\",\n{\n            'v': 99,\n            'f': \"99\",\n        }],\n [{\n            'v': 8,\n            'f': \"8\",\n        },\n\"Snorkeling\",\n{\n            'v': 89,\n            'f': \"89\",\n        }],\n [{\n            'v': 9,\n            'f': \"9\",\n        },\n\"Scuba diving\",\n{\n            'v': 76,\n            'f': \"76\",\n        }]],\n        columns: [[\"number\", \"index\"], [\"string\", \"Activity\"], [\"number\", \"Frequency\"]],\n        columnOptions: [{\"width\": \"1px\", \"className\": \"index_column\"}],\n        rowsPerPage: 25,\n        helpUrl: \"https://colab.research.google.com/notebooks/data_table.ipynb\",\n        suppressOutputScrolling: true,\n        minimumWidth: undefined,\n      });\n    "
          },
          "metadata": {},
          "execution_count": 97
        }
      ]
    },
    {
      "cell_type": "code",
      "source": [
        "#Q4 #bewaren om later nog eens terug te kijken\n",
        "#kolomnaam 0 aanpassen (nb: tip rename opslaan! David, dank!)\n",
        "#df_q4_2 = df_q4_2.rename(columns={0: 'Attack_Nrs'})\n",
        "#dtype aanpassen naar int\n",
        "#df_q4_2 = df_q4_2.astype({'Attack_Nrs': int})\n",
        "#df_q4_2.head(15)"
      ],
      "metadata": {
        "id": "WGa0B-Gxqau7"
      },
      "execution_count": null,
      "outputs": []
    },
    {
      "cell_type": "code",
      "source": [
        "#trie to add a column to make free the index\n",
        "#bewaren om later nog eens terug te kijken\n",
        "#df_q4_2['Act'] = df_q4_2['Activity']\n",
        "#df_q4_2.assign(Activities=df_q4_2.Activity)\n",
        "#df_q4_2=df_q4_2.reset_index(drop=True)\n",
        "#df_q4_2['Act'] = df_q4_2['Activity']\n",
        "#df_q4_2.head(5)"
      ],
      "metadata": {
        "id": "Yr20Y_KzJ2Oe"
      },
      "execution_count": null,
      "outputs": []
    },
    {
      "cell_type": "code",
      "source": [
        "#Q4 - plot \n",
        "df_activities_2.head(10).plot.bar(x='Activity', y='Frequency', legend=None)\n",
        "plt.title('Activities that lead more likely to shark attacks')\n",
        "plt.xlabel('Activities')\n",
        "plt.ylabel('Shark Attacks', rotation=0)\n",
        "plt.grid(axis='y')\n",
        "plt.xticks(rotation=35)\n",
        "plt.show()"
      ],
      "metadata": {
        "colab": {
          "base_uri": "https://localhost:8080/",
          "height": 330
        },
        "id": "69QbE7iUK6s0",
        "outputId": "478f71aa-1199-4d09-b405-1babd20016d9"
      },
      "execution_count": 109,
      "outputs": [
        {
          "output_type": "display_data",
          "data": {
            "text/plain": [
              "<Figure size 432x288 with 1 Axes>"
            ],
            "image/png": "[encoded data removed]"
          },
          "metadata": {
            "needs_background": "light"
          }
        }
      ]
    },
    {
      "cell_type": "code",
      "source": [
        "#Q4 Answer:\n",
        "print('Q4 Answer:')\n",
        "print(\"\\n\")\n",
        "print('Surfing, Swimming and Fishing are not recommanded ;-)')\n",
        "print(\"\\n\")"
      ],
      "metadata": {
        "id": "cQlNOUlHKBmQ",
        "colab": {
          "base_uri": "https://localhost:8080/"
        },
        "outputId": "c1f98ea4-1252-4db5-bafd-42abbcf50e27"
      },
      "execution_count": 114,
      "outputs": [
        {
          "output_type": "stream",
          "name": "stdout",
          "text": [
            "Q4 Answer:\n",
            "\n",
            "\n",
            "Surfing, Swimming and Fishing are not recommanded ;-)\n",
            "\n",
            "\n"
          ]
        }
      ]
    }
  ]
}